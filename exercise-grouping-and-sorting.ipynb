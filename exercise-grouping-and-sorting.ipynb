{
 "cells": [
  {
   "cell_type": "markdown",
   "id": "baking-forge",
   "metadata": {
    "papermill": {
     "duration": 0.016425,
     "end_time": "2021-04-01T04:58:16.046862",
     "exception": false,
     "start_time": "2021-04-01T04:58:16.030437",
     "status": "completed"
    },
    "tags": []
   },
   "source": [
    "**This notebook is an exercise in the [Pandas](https://www.kaggle.com/learn/pandas) course.  You can reference the tutorial at [this link](https://www.kaggle.com/residentmario/grouping-and-sorting).**\n",
    "\n",
    "---\n"
   ]
  },
  {
   "cell_type": "markdown",
   "id": "corresponding-delaware",
   "metadata": {
    "papermill": {
     "duration": 0.013801,
     "end_time": "2021-04-01T04:58:16.075206",
     "exception": false,
     "start_time": "2021-04-01T04:58:16.061405",
     "status": "completed"
    },
    "tags": []
   },
   "source": [
    "# Introduction\n",
    "\n",
    "In these exercises we'll apply groupwise analysis to our dataset.\n",
    "\n",
    "Run the code cell below to load the data before running the exercises."
   ]
  },
  {
   "cell_type": "code",
   "execution_count": 1,
   "id": "fatty-outreach",
   "metadata": {
    "execution": {
     "iopub.execute_input": "2021-04-01T04:58:16.108671Z",
     "iopub.status.busy": "2021-04-01T04:58:16.107387Z",
     "iopub.status.idle": "2021-04-01T04:58:19.256258Z",
     "shell.execute_reply": "2021-04-01T04:58:19.256911Z"
    },
    "papermill": {
     "duration": 3.168338,
     "end_time": "2021-04-01T04:58:19.257288",
     "exception": false,
     "start_time": "2021-04-01T04:58:16.088950",
     "status": "completed"
    },
    "tags": []
   },
   "outputs": [
    {
     "name": "stdout",
     "output_type": "stream",
     "text": [
      "Setup complete.\n"
     ]
    }
   ],
   "source": [
    "import pandas as pd\n",
    "\n",
    "reviews = pd.read_csv(\"../input/wine-reviews/winemag-data-130k-v2.csv\", index_col=0)\n",
    "#pd.set_option(\"display.max_rows\", 5)\n",
    "\n",
    "from learntools.core import binder; binder.bind(globals())\n",
    "from learntools.pandas.grouping_and_sorting import *\n",
    "print(\"Setup complete.\")"
   ]
  },
  {
   "cell_type": "markdown",
   "id": "civil-operator",
   "metadata": {
    "papermill": {
     "duration": 0.014927,
     "end_time": "2021-04-01T04:58:19.286541",
     "exception": false,
     "start_time": "2021-04-01T04:58:19.271614",
     "status": "completed"
    },
    "tags": []
   },
   "source": [
    "# Exercises"
   ]
  },
  {
   "cell_type": "markdown",
   "id": "disturbed-relief",
   "metadata": {
    "papermill": {
     "duration": 0.014109,
     "end_time": "2021-04-01T04:58:19.315276",
     "exception": false,
     "start_time": "2021-04-01T04:58:19.301167",
     "status": "completed"
    },
    "tags": []
   },
   "source": [
    "## 1.\n",
    "Who are the most common wine reviewers in the dataset? Create a `Series` whose index is the `taster_twitter_handle` category from the dataset, and whose values count how many reviews each person wrote."
   ]
  },
  {
   "cell_type": "code",
   "execution_count": 2,
   "id": "bright-plumbing",
   "metadata": {
    "execution": {
     "iopub.execute_input": "2021-04-01T04:58:19.359529Z",
     "iopub.status.busy": "2021-04-01T04:58:19.358794Z",
     "iopub.status.idle": "2021-04-01T04:58:19.370167Z",
     "shell.execute_reply": "2021-04-01T04:58:19.369527Z"
    },
    "papermill": {
     "duration": 0.041049,
     "end_time": "2021-04-01T04:58:19.370303",
     "exception": false,
     "start_time": "2021-04-01T04:58:19.329254",
     "status": "completed"
    },
    "tags": []
   },
   "outputs": [
    {
     "data": {
      "application/javascript": [
       "parent.postMessage({\"jupyterEvent\": \"custom.exercise_interaction\", \"data\": {\"outcomeType\": 1, \"valueTowardsCompletion\": 0.16666666666666666, \"interactionType\": 1, \"questionType\": 1, \"questionId\": \"1_ReviewsWritten\", \"learnToolsVersion\": \"0.3.4\", \"failureMessage\": \"\", \"exceptionClass\": \"\", \"trace\": \"\"}}, \"*\")"
      ],
      "text/plain": [
       "<IPython.core.display.Javascript object>"
      ]
     },
     "metadata": {},
     "output_type": "display_data"
    },
    {
     "data": {
      "text/markdown": [
       "<span style=\"color:#33cc33\">Correct:</span> \n",
       "\n",
       "\n",
       "```python\n",
       "reviews_written = reviews.groupby('taster_twitter_handle').size()\n",
       "```\n",
       "or\n",
       "```python\n",
       "reviews_written = reviews.groupby('taster_twitter_handle').taster_twitter_handle.count()\n",
       "```\n"
      ],
      "text/plain": [
       "Correct: \n",
       "\n",
       "\n",
       "```python\n",
       "reviews_written = reviews.groupby('taster_twitter_handle').size()\n",
       "```\n",
       "or\n",
       "```python\n",
       "reviews_written = reviews.groupby('taster_twitter_handle').taster_twitter_handle.count()\n",
       "```"
      ]
     },
     "metadata": {},
     "output_type": "display_data"
    }
   ],
   "source": [
    "# Your code here\n",
    "reviews_written = reviews.groupby('taster_twitter_handle').size()\n",
    "\n",
    "# Check your answer\n",
    "q1.check()"
   ]
  },
  {
   "cell_type": "code",
   "execution_count": 3,
   "id": "sapphire-interim",
   "metadata": {
    "execution": {
     "iopub.execute_input": "2021-04-01T04:58:19.407516Z",
     "iopub.status.busy": "2021-04-01T04:58:19.406759Z",
     "iopub.status.idle": "2021-04-01T04:58:19.411995Z",
     "shell.execute_reply": "2021-04-01T04:58:19.412494Z"
    },
    "papermill": {
     "duration": 0.026639,
     "end_time": "2021-04-01T04:58:19.412694",
     "exception": false,
     "start_time": "2021-04-01T04:58:19.386055",
     "status": "completed"
    },
    "tags": []
   },
   "outputs": [
    {
     "data": {
      "application/javascript": [
       "parent.postMessage({\"jupyterEvent\": \"custom.exercise_interaction\", \"data\": {\"interactionType\": 3, \"questionType\": 1, \"questionId\": \"1_ReviewsWritten\", \"learnToolsVersion\": \"0.3.4\", \"valueTowardsCompletion\": 0.0, \"failureMessage\": \"\", \"exceptionClass\": \"\", \"trace\": \"\", \"outcomeType\": 4}}, \"*\")"
      ],
      "text/plain": [
       "<IPython.core.display.Javascript object>"
      ]
     },
     "metadata": {},
     "output_type": "display_data"
    },
    {
     "data": {
      "text/markdown": [
       "<span style=\"color:#33cc99\">Solution:</span> \n",
       "```python\n",
       "reviews_written = reviews.groupby('taster_twitter_handle').size()\n",
       "```\n",
       "or\n",
       "```python\n",
       "reviews_written = reviews.groupby('taster_twitter_handle').taster_twitter_handle.count()\n",
       "```\n"
      ],
      "text/plain": [
       "Solution: \n",
       "```python\n",
       "reviews_written = reviews.groupby('taster_twitter_handle').size()\n",
       "```\n",
       "or\n",
       "```python\n",
       "reviews_written = reviews.groupby('taster_twitter_handle').taster_twitter_handle.count()\n",
       "```"
      ]
     },
     "metadata": {},
     "output_type": "display_data"
    }
   ],
   "source": [
    "#q1.hint()\n",
    "q1.solution()"
   ]
  },
  {
   "cell_type": "markdown",
   "id": "arbitrary-steps",
   "metadata": {
    "papermill": {
     "duration": 0.016296,
     "end_time": "2021-04-01T04:58:19.444910",
     "exception": false,
     "start_time": "2021-04-01T04:58:19.428614",
     "status": "completed"
    },
    "tags": []
   },
   "source": [
    "## 2.\n",
    "What is the best wine I can buy for a given amount of money? Create a `Series` whose index is wine prices and whose values is the maximum number of points a wine costing that much was given in a review. Sort the values by price, ascending (so that `4.0` dollars is at the top and `3300.0` dollars is at the bottom)."
   ]
  },
  {
   "cell_type": "code",
   "execution_count": 4,
   "id": "small-synthesis",
   "metadata": {
    "execution": {
     "iopub.execute_input": "2021-04-01T04:58:19.481792Z",
     "iopub.status.busy": "2021-04-01T04:58:19.481010Z",
     "iopub.status.idle": "2021-04-01T04:58:19.498004Z",
     "shell.execute_reply": "2021-04-01T04:58:19.497338Z"
    },
    "papermill": {
     "duration": 0.036965,
     "end_time": "2021-04-01T04:58:19.498166",
     "exception": false,
     "start_time": "2021-04-01T04:58:19.461201",
     "status": "completed"
    },
    "tags": []
   },
   "outputs": [
    {
     "name": "stdout",
     "output_type": "stream",
     "text": [
      "price\n",
      "4.0       86\n",
      "5.0       87\n",
      "6.0       88\n",
      "7.0       91\n",
      "8.0       91\n",
      "          ..\n",
      "1900.0    98\n",
      "2000.0    97\n",
      "2013.0    91\n",
      "2500.0    96\n",
      "3300.0    88\n",
      "Name: points, Length: 390, dtype: int64\n"
     ]
    },
    {
     "data": {
      "application/javascript": [
       "parent.postMessage({\"jupyterEvent\": \"custom.exercise_interaction\", \"data\": {\"outcomeType\": 1, \"valueTowardsCompletion\": 0.16666666666666666, \"interactionType\": 1, \"questionType\": 1, \"questionId\": \"2_BestRatingPerPrice\", \"learnToolsVersion\": \"0.3.4\", \"failureMessage\": \"\", \"exceptionClass\": \"\", \"trace\": \"\"}}, \"*\")"
      ],
      "text/plain": [
       "<IPython.core.display.Javascript object>"
      ]
     },
     "metadata": {},
     "output_type": "display_data"
    },
    {
     "data": {
      "text/markdown": [
       "<span style=\"color:#33cc33\">Correct</span>"
      ],
      "text/plain": [
       "Correct"
      ]
     },
     "metadata": {},
     "output_type": "display_data"
    }
   ],
   "source": [
    "\n",
    "best_rating_per_price = reviews.groupby('price')['points'].max().sort_index()\n",
    "print(best_rating_per_price)\n",
    "# Check your answer\n",
    "q2.check()"
   ]
  },
  {
   "cell_type": "code",
   "execution_count": 5,
   "id": "visible-moisture",
   "metadata": {
    "execution": {
     "iopub.execute_input": "2021-04-01T04:58:19.537339Z",
     "iopub.status.busy": "2021-04-01T04:58:19.536573Z",
     "iopub.status.idle": "2021-04-01T04:58:19.542170Z",
     "shell.execute_reply": "2021-04-01T04:58:19.542667Z"
    },
    "papermill": {
     "duration": 0.027488,
     "end_time": "2021-04-01T04:58:19.542853",
     "exception": false,
     "start_time": "2021-04-01T04:58:19.515365",
     "status": "completed"
    },
    "tags": []
   },
   "outputs": [
    {
     "data": {
      "application/javascript": [
       "parent.postMessage({\"jupyterEvent\": \"custom.exercise_interaction\", \"data\": {\"interactionType\": 3, \"questionType\": 1, \"questionId\": \"2_BestRatingPerPrice\", \"learnToolsVersion\": \"0.3.4\", \"valueTowardsCompletion\": 0.0, \"failureMessage\": \"\", \"exceptionClass\": \"\", \"trace\": \"\", \"outcomeType\": 4}}, \"*\")"
      ],
      "text/plain": [
       "<IPython.core.display.Javascript object>"
      ]
     },
     "metadata": {},
     "output_type": "display_data"
    },
    {
     "data": {
      "text/markdown": [
       "<span style=\"color:#33cc99\">Solution:</span> \n",
       "```python\n",
       "best_rating_per_price = reviews.groupby('price')['points'].max().sort_index()\n",
       "```"
      ],
      "text/plain": [
       "Solution: \n",
       "```python\n",
       "best_rating_per_price = reviews.groupby('price')['points'].max().sort_index()\n",
       "```"
      ]
     },
     "metadata": {},
     "output_type": "display_data"
    }
   ],
   "source": [
    "#q2.hint()\n",
    "q2.solution()"
   ]
  },
  {
   "cell_type": "markdown",
   "id": "direct-partnership",
   "metadata": {
    "papermill": {
     "duration": 0.01773,
     "end_time": "2021-04-01T04:58:19.578952",
     "exception": false,
     "start_time": "2021-04-01T04:58:19.561222",
     "status": "completed"
    },
    "tags": []
   },
   "source": [
    "## 3.\n",
    "What are the minimum and maximum prices for each `variety` of wine? Create a `DataFrame` whose index is the `variety` category from the dataset and whose values are the `min` and `max` values thereof."
   ]
  },
  {
   "cell_type": "code",
   "execution_count": 6,
   "id": "specific-teacher",
   "metadata": {
    "execution": {
     "iopub.execute_input": "2021-04-01T04:58:19.620169Z",
     "iopub.status.busy": "2021-04-01T04:58:19.619541Z",
     "iopub.status.idle": "2021-04-01T04:58:19.660439Z",
     "shell.execute_reply": "2021-04-01T04:58:19.660966Z"
    },
    "papermill": {
     "duration": 0.06266,
     "end_time": "2021-04-01T04:58:19.661145",
     "exception": false,
     "start_time": "2021-04-01T04:58:19.598485",
     "status": "completed"
    },
    "tags": []
   },
   "outputs": [
    {
     "name": "stdout",
     "output_type": "stream",
     "text": [
      "              min    max\n",
      "variety                 \n",
      "Abouriou     15.0   75.0\n",
      "Agiorgitiko  10.0   66.0\n",
      "Aglianico     6.0  180.0\n",
      "Aidani       27.0   27.0\n",
      "Airen         8.0   10.0\n",
      "...           ...    ...\n",
      "Zinfandel     5.0  100.0\n",
      "Zlahtina     13.0   16.0\n",
      "Zweigelt      9.0   70.0\n",
      "Çalkarası    19.0   19.0\n",
      "Žilavka      15.0   15.0\n",
      "\n",
      "[707 rows x 2 columns]\n"
     ]
    },
    {
     "data": {
      "application/javascript": [
       "parent.postMessage({\"jupyterEvent\": \"custom.exercise_interaction\", \"data\": {\"outcomeType\": 1, \"valueTowardsCompletion\": 0.16666666666666666, \"interactionType\": 1, \"questionType\": 1, \"questionId\": \"3_PriceExtremes\", \"learnToolsVersion\": \"0.3.4\", \"failureMessage\": \"\", \"exceptionClass\": \"\", \"trace\": \"\"}}, \"*\")"
      ],
      "text/plain": [
       "<IPython.core.display.Javascript object>"
      ]
     },
     "metadata": {},
     "output_type": "display_data"
    },
    {
     "data": {
      "text/markdown": [
       "<span style=\"color:#33cc33\">Correct</span>"
      ],
      "text/plain": [
       "Correct"
      ]
     },
     "metadata": {},
     "output_type": "display_data"
    }
   ],
   "source": [
    "price_extremes = reviews.groupby('variety').price.agg([min,max])\n",
    "# Check your answer\n",
    "print(price_extremes)\n",
    "q3.check()"
   ]
  },
  {
   "cell_type": "code",
   "execution_count": 7,
   "id": "growing-annex",
   "metadata": {
    "execution": {
     "iopub.execute_input": "2021-04-01T04:58:19.706804Z",
     "iopub.status.busy": "2021-04-01T04:58:19.705884Z",
     "iopub.status.idle": "2021-04-01T04:58:19.712526Z",
     "shell.execute_reply": "2021-04-01T04:58:19.712004Z"
    },
    "papermill": {
     "duration": 0.031933,
     "end_time": "2021-04-01T04:58:19.712717",
     "exception": false,
     "start_time": "2021-04-01T04:58:19.680784",
     "status": "completed"
    },
    "tags": []
   },
   "outputs": [
    {
     "data": {
      "application/javascript": [
       "parent.postMessage({\"jupyterEvent\": \"custom.exercise_interaction\", \"data\": {\"interactionType\": 3, \"questionType\": 1, \"questionId\": \"3_PriceExtremes\", \"learnToolsVersion\": \"0.3.4\", \"valueTowardsCompletion\": 0.0, \"failureMessage\": \"\", \"exceptionClass\": \"\", \"trace\": \"\", \"outcomeType\": 4}}, \"*\")"
      ],
      "text/plain": [
       "<IPython.core.display.Javascript object>"
      ]
     },
     "metadata": {},
     "output_type": "display_data"
    },
    {
     "data": {
      "text/markdown": [
       "<span style=\"color:#33cc99\">Solution:</span> \n",
       "```python\n",
       "price_extremes = reviews.groupby('variety').price.agg([min, max])\n",
       "```"
      ],
      "text/plain": [
       "Solution: \n",
       "```python\n",
       "price_extremes = reviews.groupby('variety').price.agg([min, max])\n",
       "```"
      ]
     },
     "metadata": {},
     "output_type": "display_data"
    }
   ],
   "source": [
    "#q3.hint()\n",
    "q3.solution()"
   ]
  },
  {
   "cell_type": "markdown",
   "id": "social-locking",
   "metadata": {
    "papermill": {
     "duration": 0.020648,
     "end_time": "2021-04-01T04:58:19.754694",
     "exception": false,
     "start_time": "2021-04-01T04:58:19.734046",
     "status": "completed"
    },
    "tags": []
   },
   "source": [
    "## 4.\n",
    "What are the most expensive wine varieties? Create a variable `sorted_varieties` containing a copy of the dataframe from the previous question where varieties are sorted in descending order based on minimum price, then on maximum price (to break ties)."
   ]
  },
  {
   "cell_type": "code",
   "execution_count": 8,
   "id": "minor-lecture",
   "metadata": {
    "execution": {
     "iopub.execute_input": "2021-04-01T04:58:19.800105Z",
     "iopub.status.busy": "2021-04-01T04:58:19.799495Z",
     "iopub.status.idle": "2021-04-01T04:58:19.810580Z",
     "shell.execute_reply": "2021-04-01T04:58:19.810062Z"
    },
    "papermill": {
     "duration": 0.035184,
     "end_time": "2021-04-01T04:58:19.810805",
     "exception": false,
     "start_time": "2021-04-01T04:58:19.775621",
     "status": "completed"
    },
    "tags": []
   },
   "outputs": [
    {
     "data": {
      "application/javascript": [
       "parent.postMessage({\"jupyterEvent\": \"custom.exercise_interaction\", \"data\": {\"outcomeType\": 1, \"valueTowardsCompletion\": 0.16666666666666666, \"interactionType\": 1, \"questionType\": 1, \"questionId\": \"4_SortedVarieties\", \"learnToolsVersion\": \"0.3.4\", \"failureMessage\": \"\", \"exceptionClass\": \"\", \"trace\": \"\"}}, \"*\")"
      ],
      "text/plain": [
       "<IPython.core.display.Javascript object>"
      ]
     },
     "metadata": {},
     "output_type": "display_data"
    },
    {
     "data": {
      "text/markdown": [
       "<span style=\"color:#33cc33\">Correct</span>"
      ],
      "text/plain": [
       "Correct"
      ]
     },
     "metadata": {},
     "output_type": "display_data"
    }
   ],
   "source": [
    "sorted_varieties = price_extremes.sort_values(by=['min','max'],ascending = False)\n",
    "\n",
    "# Check your answer\n",
    "q4.check()"
   ]
  },
  {
   "cell_type": "code",
   "execution_count": 9,
   "id": "premier-institute",
   "metadata": {
    "execution": {
     "iopub.execute_input": "2021-04-01T04:58:19.859588Z",
     "iopub.status.busy": "2021-04-01T04:58:19.858526Z",
     "iopub.status.idle": "2021-04-01T04:58:19.865260Z",
     "shell.execute_reply": "2021-04-01T04:58:19.864688Z"
    },
    "papermill": {
     "duration": 0.033327,
     "end_time": "2021-04-01T04:58:19.865395",
     "exception": false,
     "start_time": "2021-04-01T04:58:19.832068",
     "status": "completed"
    },
    "tags": []
   },
   "outputs": [
    {
     "data": {
      "application/javascript": [
       "parent.postMessage({\"jupyterEvent\": \"custom.exercise_interaction\", \"data\": {\"interactionType\": 3, \"questionType\": 1, \"questionId\": \"4_SortedVarieties\", \"learnToolsVersion\": \"0.3.4\", \"valueTowardsCompletion\": 0.0, \"failureMessage\": \"\", \"exceptionClass\": \"\", \"trace\": \"\", \"outcomeType\": 4}}, \"*\")"
      ],
      "text/plain": [
       "<IPython.core.display.Javascript object>"
      ]
     },
     "metadata": {},
     "output_type": "display_data"
    },
    {
     "data": {
      "text/markdown": [
       "<span style=\"color:#33cc99\">Solution:</span> \n",
       "```python\n",
       "sorted_varieties = price_extremes.sort_values(by=['min', 'max'], ascending=False)\n",
       "```"
      ],
      "text/plain": [
       "Solution: \n",
       "```python\n",
       "sorted_varieties = price_extremes.sort_values(by=['min', 'max'], ascending=False)\n",
       "```"
      ]
     },
     "metadata": {},
     "output_type": "display_data"
    }
   ],
   "source": [
    "#q4.hint()\n",
    "q4.solution()"
   ]
  },
  {
   "cell_type": "markdown",
   "id": "affecting-incident",
   "metadata": {
    "papermill": {
     "duration": 0.022064,
     "end_time": "2021-04-01T04:58:19.913211",
     "exception": false,
     "start_time": "2021-04-01T04:58:19.891147",
     "status": "completed"
    },
    "tags": []
   },
   "source": [
    "## 5.\n",
    "Create a `Series` whose index is reviewers and whose values is the average review score given out by that reviewer. Hint: you will need the `taster_name` and `points` columns."
   ]
  },
  {
   "cell_type": "code",
   "execution_count": 10,
   "id": "found-share",
   "metadata": {
    "execution": {
     "iopub.execute_input": "2021-04-01T04:58:19.974392Z",
     "iopub.status.busy": "2021-04-01T04:58:19.964526Z",
     "iopub.status.idle": "2021-04-01T04:58:19.982752Z",
     "shell.execute_reply": "2021-04-01T04:58:19.983312Z"
    },
    "papermill": {
     "duration": 0.046912,
     "end_time": "2021-04-01T04:58:19.983498",
     "exception": false,
     "start_time": "2021-04-01T04:58:19.936586",
     "status": "completed"
    },
    "tags": []
   },
   "outputs": [
    {
     "data": {
      "application/javascript": [
       "parent.postMessage({\"jupyterEvent\": \"custom.exercise_interaction\", \"data\": {\"outcomeType\": 1, \"valueTowardsCompletion\": 0.16666666666666666, \"interactionType\": 1, \"questionType\": 1, \"questionId\": \"5_ReviewerMeanRatings\", \"learnToolsVersion\": \"0.3.4\", \"failureMessage\": \"\", \"exceptionClass\": \"\", \"trace\": \"\"}}, \"*\")"
      ],
      "text/plain": [
       "<IPython.core.display.Javascript object>"
      ]
     },
     "metadata": {},
     "output_type": "display_data"
    },
    {
     "data": {
      "text/markdown": [
       "<span style=\"color:#33cc33\">Correct</span>"
      ],
      "text/plain": [
       "Correct"
      ]
     },
     "metadata": {},
     "output_type": "display_data"
    }
   ],
   "source": [
    "reviewer_mean_ratings = reviews.groupby('taster_name').points.mean()\n",
    "\n",
    "# Check your answer\n",
    "q5.check()"
   ]
  },
  {
   "cell_type": "code",
   "execution_count": 11,
   "id": "beginning-increase",
   "metadata": {
    "execution": {
     "iopub.execute_input": "2021-04-01T04:58:20.034498Z",
     "iopub.status.busy": "2021-04-01T04:58:20.033766Z",
     "iopub.status.idle": "2021-04-01T04:58:20.039984Z",
     "shell.execute_reply": "2021-04-01T04:58:20.039392Z"
    },
    "papermill": {
     "duration": 0.032856,
     "end_time": "2021-04-01T04:58:20.040120",
     "exception": false,
     "start_time": "2021-04-01T04:58:20.007264",
     "status": "completed"
    },
    "tags": []
   },
   "outputs": [
    {
     "data": {
      "application/javascript": [
       "parent.postMessage({\"jupyterEvent\": \"custom.exercise_interaction\", \"data\": {\"interactionType\": 3, \"questionType\": 1, \"questionId\": \"5_ReviewerMeanRatings\", \"learnToolsVersion\": \"0.3.4\", \"valueTowardsCompletion\": 0.0, \"failureMessage\": \"\", \"exceptionClass\": \"\", \"trace\": \"\", \"outcomeType\": 4}}, \"*\")"
      ],
      "text/plain": [
       "<IPython.core.display.Javascript object>"
      ]
     },
     "metadata": {},
     "output_type": "display_data"
    },
    {
     "data": {
      "text/markdown": [
       "<span style=\"color:#33cc99\">Solution:</span> \n",
       "```python\n",
       "reviewer_mean_ratings = reviews.groupby('taster_name').points.mean()\n",
       "```"
      ],
      "text/plain": [
       "Solution: \n",
       "```python\n",
       "reviewer_mean_ratings = reviews.groupby('taster_name').points.mean()\n",
       "```"
      ]
     },
     "metadata": {},
     "output_type": "display_data"
    }
   ],
   "source": [
    "#q5.hint()\n",
    "q5.solution()"
   ]
  },
  {
   "cell_type": "markdown",
   "id": "centered-wallet",
   "metadata": {
    "papermill": {
     "duration": 0.023249,
     "end_time": "2021-04-01T04:58:20.086993",
     "exception": false,
     "start_time": "2021-04-01T04:58:20.063744",
     "status": "completed"
    },
    "tags": []
   },
   "source": [
    "Are there significant differences in the average scores assigned by the various reviewers? Run the cell below to use the `describe()` method to see a summary of the range of values."
   ]
  },
  {
   "cell_type": "code",
   "execution_count": 12,
   "id": "found-kenya",
   "metadata": {
    "execution": {
     "iopub.execute_input": "2021-04-01T04:58:20.143815Z",
     "iopub.status.busy": "2021-04-01T04:58:20.143160Z",
     "iopub.status.idle": "2021-04-01T04:58:20.153107Z",
     "shell.execute_reply": "2021-04-01T04:58:20.153573Z"
    },
    "papermill": {
     "duration": 0.04211,
     "end_time": "2021-04-01T04:58:20.153803",
     "exception": false,
     "start_time": "2021-04-01T04:58:20.111693",
     "status": "completed"
    },
    "tags": []
   },
   "outputs": [
    {
     "data": {
      "text/plain": [
       "count    19.000000\n",
       "mean     88.233026\n",
       "std       1.243610\n",
       "min      85.855422\n",
       "25%      87.323501\n",
       "50%      88.536235\n",
       "75%      88.975256\n",
       "max      90.562551\n",
       "Name: points, dtype: float64"
      ]
     },
     "execution_count": 12,
     "metadata": {},
     "output_type": "execute_result"
    }
   ],
   "source": [
    "reviewer_mean_ratings.describe()"
   ]
  },
  {
   "cell_type": "markdown",
   "id": "latin-rugby",
   "metadata": {
    "papermill": {
     "duration": 0.025176,
     "end_time": "2021-04-01T04:58:20.204257",
     "exception": false,
     "start_time": "2021-04-01T04:58:20.179081",
     "status": "completed"
    },
    "tags": []
   },
   "source": [
    "## 6.\n",
    "What combination of countries and varieties are most common? Create a `Series` whose index is a `MultiIndex`of `{country, variety}` pairs. For example, a pinot noir produced in the US should map to `{\"US\", \"Pinot Noir\"}`. Sort the values in the `Series` in descending order based on wine count."
   ]
  },
  {
   "cell_type": "code",
   "execution_count": 13,
   "id": "expanded-narrow",
   "metadata": {
    "execution": {
     "iopub.execute_input": "2021-04-01T04:58:20.271434Z",
     "iopub.status.busy": "2021-04-01T04:58:20.270220Z",
     "iopub.status.idle": "2021-04-01T04:58:20.297044Z",
     "shell.execute_reply": "2021-04-01T04:58:20.296329Z"
    },
    "papermill": {
     "duration": 0.066282,
     "end_time": "2021-04-01T04:58:20.297194",
     "exception": false,
     "start_time": "2021-04-01T04:58:20.230912",
     "status": "completed"
    },
    "tags": []
   },
   "outputs": [
    {
     "data": {
      "application/javascript": [
       "parent.postMessage({\"jupyterEvent\": \"custom.exercise_interaction\", \"data\": {\"outcomeType\": 1, \"valueTowardsCompletion\": 0.16666666666666666, \"interactionType\": 1, \"questionType\": 1, \"questionId\": \"6_GroupbyCountryVariety\", \"learnToolsVersion\": \"0.3.4\", \"failureMessage\": \"\", \"exceptionClass\": \"\", \"trace\": \"\"}}, \"*\")"
      ],
      "text/plain": [
       "<IPython.core.display.Javascript object>"
      ]
     },
     "metadata": {},
     "output_type": "display_data"
    },
    {
     "data": {
      "text/markdown": [
       "<span style=\"color:#33cc33\">Correct</span>"
      ],
      "text/plain": [
       "Correct"
      ]
     },
     "metadata": {},
     "output_type": "display_data"
    }
   ],
   "source": [
    "country_variety_counts = reviews.groupby([\"country\",\"variety\"]).size().sort_values(ascending = False)\n",
    "\n",
    "# Check your answer\n",
    "q6.check()"
   ]
  },
  {
   "cell_type": "code",
   "execution_count": 14,
   "id": "gentle-necklace",
   "metadata": {
    "execution": {
     "iopub.execute_input": "2021-04-01T04:58:20.355055Z",
     "iopub.status.busy": "2021-04-01T04:58:20.354351Z",
     "iopub.status.idle": "2021-04-01T04:58:20.360163Z",
     "shell.execute_reply": "2021-04-01T04:58:20.359659Z"
    },
    "papermill": {
     "duration": 0.03699,
     "end_time": "2021-04-01T04:58:20.360332",
     "exception": false,
     "start_time": "2021-04-01T04:58:20.323342",
     "status": "completed"
    },
    "tags": []
   },
   "outputs": [
    {
     "data": {
      "application/javascript": [
       "parent.postMessage({\"jupyterEvent\": \"custom.exercise_interaction\", \"data\": {\"interactionType\": 3, \"questionType\": 1, \"questionId\": \"6_GroupbyCountryVariety\", \"learnToolsVersion\": \"0.3.4\", \"valueTowardsCompletion\": 0.0, \"failureMessage\": \"\", \"exceptionClass\": \"\", \"trace\": \"\", \"outcomeType\": 4}}, \"*\")"
      ],
      "text/plain": [
       "<IPython.core.display.Javascript object>"
      ]
     },
     "metadata": {},
     "output_type": "display_data"
    },
    {
     "data": {
      "text/markdown": [
       "<span style=\"color:#33cc99\">Solution:</span> \n",
       "```python\n",
       "country_variety_counts = reviews.groupby(['country', 'variety']).size().sort_values(ascending=False)\n",
       "```"
      ],
      "text/plain": [
       "Solution: \n",
       "```python\n",
       "country_variety_counts = reviews.groupby(['country', 'variety']).size().sort_values(ascending=False)\n",
       "```"
      ]
     },
     "metadata": {},
     "output_type": "display_data"
    }
   ],
   "source": [
    "#q6.hint()\n",
    "q6.solution()"
   ]
  },
  {
   "cell_type": "markdown",
   "id": "southern-employee",
   "metadata": {
    "papermill": {
     "duration": 0.026725,
     "end_time": "2021-04-01T04:58:20.414626",
     "exception": false,
     "start_time": "2021-04-01T04:58:20.387901",
     "status": "completed"
    },
    "tags": []
   },
   "source": [
    "# Keep going\n",
    "\n",
    "Move on to the [**data types and missing data**](https://www.kaggle.com/residentmario/data-types-and-missing-values)."
   ]
  },
  {
   "cell_type": "markdown",
   "id": "understood-geology",
   "metadata": {
    "papermill": {
     "duration": 0.02641,
     "end_time": "2021-04-01T04:58:20.467850",
     "exception": false,
     "start_time": "2021-04-01T04:58:20.441440",
     "status": "completed"
    },
    "tags": []
   },
   "source": [
    "---\n",
    "\n",
    "\n",
    "\n",
    "\n",
    "*Have questions or comments? Visit the [Learn Discussion forum](https://www.kaggle.com/learn-forum/161299) to chat with other Learners.*"
   ]
  }
 ],
 "metadata": {
  "kernelspec": {
   "display_name": "Python 3",
   "language": "python",
   "name": "python3"
  },
  "language_info": {
   "codemirror_mode": {
    "name": "ipython",
    "version": 3
   },
   "file_extension": ".py",
   "mimetype": "text/x-python",
   "name": "python",
   "nbconvert_exporter": "python",
   "pygments_lexer": "ipython3",
   "version": "3.7.9"
  },
  "papermill": {
   "default_parameters": {},
   "duration": 11.410714,
   "end_time": "2021-04-01T04:58:21.104442",
   "environment_variables": {},
   "exception": null,
   "input_path": "__notebook__.ipynb",
   "output_path": "__notebook__.ipynb",
   "parameters": {},
   "start_time": "2021-04-01T04:58:09.693728",
   "version": "2.3.2"
  }
 },
 "nbformat": 4,
 "nbformat_minor": 5
}
