{
 "cells": [
  {
   "cell_type": "markdown",
   "id": "traditional-morrison",
   "metadata": {
    "papermill": {
     "duration": 0.010622,
     "end_time": "2021-04-01T04:58:20.157229",
     "exception": false,
     "start_time": "2021-04-01T04:58:20.146607",
     "status": "completed"
    },
    "tags": []
   },
   "source": [
    "**This notebook is an exercise in the [Pandas](https://www.kaggle.com/learn/pandas) course.  You can reference the tutorial at [this link](https://www.kaggle.com/residentmario/data-types-and-missing-values).**\n",
    "\n",
    "---\n"
   ]
  },
  {
   "cell_type": "markdown",
   "id": "stainless-dominant",
   "metadata": {
    "papermill": {
     "duration": 0.008244,
     "end_time": "2021-04-01T04:58:20.174298",
     "exception": false,
     "start_time": "2021-04-01T04:58:20.166054",
     "status": "completed"
    },
    "tags": []
   },
   "source": [
    "# Introduction\n",
    "\n",
    "Run the following cell to load your data and some utility functions."
   ]
  },
  {
   "cell_type": "code",
   "execution_count": 1,
   "id": "lined-iceland",
   "metadata": {
    "execution": {
     "iopub.execute_input": "2021-04-01T04:58:20.197686Z",
     "iopub.status.busy": "2021-04-01T04:58:20.197122Z",
     "iopub.status.idle": "2021-04-01T04:58:23.114599Z",
     "shell.execute_reply": "2021-04-01T04:58:23.113653Z"
    },
    "papermill": {
     "duration": 2.931992,
     "end_time": "2021-04-01T04:58:23.114816",
     "exception": false,
     "start_time": "2021-04-01T04:58:20.182824",
     "status": "completed"
    },
    "tags": []
   },
   "outputs": [
    {
     "name": "stdout",
     "output_type": "stream",
     "text": [
      "Setup complete.\n"
     ]
    }
   ],
   "source": [
    "import pandas as pd\n",
    "\n",
    "reviews = pd.read_csv(\"../input/wine-reviews/winemag-data-130k-v2.csv\", index_col=0)\n",
    "\n",
    "from learntools.core import binder; binder.bind(globals())\n",
    "from learntools.pandas.data_types_and_missing_data import *\n",
    "print(\"Setup complete.\")"
   ]
  },
  {
   "cell_type": "markdown",
   "id": "relative-perfume",
   "metadata": {
    "papermill": {
     "duration": 0.009656,
     "end_time": "2021-04-01T04:58:23.134478",
     "exception": false,
     "start_time": "2021-04-01T04:58:23.124822",
     "status": "completed"
    },
    "tags": []
   },
   "source": [
    "# Exercises"
   ]
  },
  {
   "cell_type": "markdown",
   "id": "seven-retreat",
   "metadata": {
    "papermill": {
     "duration": 0.008806,
     "end_time": "2021-04-01T04:58:23.152638",
     "exception": false,
     "start_time": "2021-04-01T04:58:23.143832",
     "status": "completed"
    },
    "tags": []
   },
   "source": [
    "## 1. \n",
    "What is the data type of the `points` column in the dataset?"
   ]
  },
  {
   "cell_type": "code",
   "execution_count": 2,
   "id": "interested-ribbon",
   "metadata": {
    "execution": {
     "iopub.execute_input": "2021-04-01T04:58:23.179190Z",
     "iopub.status.busy": "2021-04-01T04:58:23.178253Z",
     "iopub.status.idle": "2021-04-01T04:58:23.184740Z",
     "shell.execute_reply": "2021-04-01T04:58:23.184266Z"
    },
    "papermill": {
     "duration": 0.023006,
     "end_time": "2021-04-01T04:58:23.184903",
     "exception": false,
     "start_time": "2021-04-01T04:58:23.161897",
     "status": "completed"
    },
    "tags": []
   },
   "outputs": [
    {
     "data": {
      "application/javascript": [
       "parent.postMessage({\"jupyterEvent\": \"custom.exercise_interaction\", \"data\": {\"outcomeType\": 1, \"valueTowardsCompletion\": 0.25, \"interactionType\": 1, \"questionType\": 1, \"questionId\": \"1_PointsDtype\", \"learnToolsVersion\": \"0.3.4\", \"failureMessage\": \"\", \"exceptionClass\": \"\", \"trace\": \"\"}}, \"*\")"
      ],
      "text/plain": [
       "<IPython.core.display.Javascript object>"
      ]
     },
     "metadata": {},
     "output_type": "display_data"
    },
    {
     "data": {
      "text/markdown": [
       "<span style=\"color:#33cc33\">Correct</span>"
      ],
      "text/plain": [
       "Correct"
      ]
     },
     "metadata": {},
     "output_type": "display_data"
    }
   ],
   "source": [
    "# Your code here\n",
    "dtype = reviews.points.dtypes\n",
    "\n",
    "# Check your answer\n",
    "q1.check()"
   ]
  },
  {
   "cell_type": "code",
   "execution_count": 3,
   "id": "fitting-mobile",
   "metadata": {
    "execution": {
     "iopub.execute_input": "2021-04-01T04:58:23.209770Z",
     "iopub.status.busy": "2021-04-01T04:58:23.208990Z",
     "iopub.status.idle": "2021-04-01T04:58:23.212470Z",
     "shell.execute_reply": "2021-04-01T04:58:23.211958Z"
    },
    "papermill": {
     "duration": 0.017615,
     "end_time": "2021-04-01T04:58:23.212604",
     "exception": false,
     "start_time": "2021-04-01T04:58:23.194989",
     "status": "completed"
    },
    "tags": []
   },
   "outputs": [],
   "source": [
    "#q1.hint()\n",
    "#q1.solution()"
   ]
  },
  {
   "cell_type": "markdown",
   "id": "atlantic-flour",
   "metadata": {
    "papermill": {
     "duration": 0.009505,
     "end_time": "2021-04-01T04:58:23.232129",
     "exception": false,
     "start_time": "2021-04-01T04:58:23.222624",
     "status": "completed"
    },
    "tags": []
   },
   "source": [
    "## 2. \n",
    "Create a Series from entries in the `points` column, but convert the entries to strings. Hint: strings are `str` in native Python."
   ]
  },
  {
   "cell_type": "code",
   "execution_count": 4,
   "id": "awful-birmingham",
   "metadata": {
    "execution": {
     "iopub.execute_input": "2021-04-01T04:58:23.344503Z",
     "iopub.status.busy": "2021-04-01T04:58:23.343272Z",
     "iopub.status.idle": "2021-04-01T04:58:23.348734Z",
     "shell.execute_reply": "2021-04-01T04:58:23.349230Z"
    },
    "papermill": {
     "duration": 0.107509,
     "end_time": "2021-04-01T04:58:23.349401",
     "exception": false,
     "start_time": "2021-04-01T04:58:23.241892",
     "status": "completed"
    },
    "tags": []
   },
   "outputs": [
    {
     "data": {
      "application/javascript": [
       "parent.postMessage({\"jupyterEvent\": \"custom.exercise_interaction\", \"data\": {\"outcomeType\": 1, \"valueTowardsCompletion\": 0.25, \"interactionType\": 1, \"questionType\": 1, \"questionId\": \"2_StrPoints\", \"learnToolsVersion\": \"0.3.4\", \"failureMessage\": \"\", \"exceptionClass\": \"\", \"trace\": \"\"}}, \"*\")"
      ],
      "text/plain": [
       "<IPython.core.display.Javascript object>"
      ]
     },
     "metadata": {},
     "output_type": "display_data"
    },
    {
     "data": {
      "text/markdown": [
       "<span style=\"color:#33cc33\">Correct</span>"
      ],
      "text/plain": [
       "Correct"
      ]
     },
     "metadata": {},
     "output_type": "display_data"
    }
   ],
   "source": [
    "point_strings = reviews.points.astype(str)\n",
    "\n",
    "# Check your answer\n",
    "q2.check()"
   ]
  },
  {
   "cell_type": "code",
   "execution_count": 5,
   "id": "earlier-egypt",
   "metadata": {
    "execution": {
     "iopub.execute_input": "2021-04-01T04:58:23.374401Z",
     "iopub.status.busy": "2021-04-01T04:58:23.373763Z",
     "iopub.status.idle": "2021-04-01T04:58:23.376510Z",
     "shell.execute_reply": "2021-04-01T04:58:23.376965Z"
    },
    "papermill": {
     "duration": 0.016848,
     "end_time": "2021-04-01T04:58:23.377135",
     "exception": false,
     "start_time": "2021-04-01T04:58:23.360287",
     "status": "completed"
    },
    "tags": []
   },
   "outputs": [],
   "source": [
    "#q2.hint()\n",
    "#q2.solution()"
   ]
  },
  {
   "cell_type": "markdown",
   "id": "owned-assignment",
   "metadata": {
    "papermill": {
     "duration": 0.010552,
     "end_time": "2021-04-01T04:58:23.398832",
     "exception": false,
     "start_time": "2021-04-01T04:58:23.388280",
     "status": "completed"
    },
    "tags": []
   },
   "source": [
    "## 3.\n",
    "Sometimes the price column is null. How many reviews in the dataset are missing a price?"
   ]
  },
  {
   "cell_type": "code",
   "execution_count": 6,
   "id": "roman-comparative",
   "metadata": {
    "execution": {
     "iopub.execute_input": "2021-04-01T04:58:23.423726Z",
     "iopub.status.busy": "2021-04-01T04:58:23.423143Z",
     "iopub.status.idle": "2021-04-01T04:58:23.430118Z",
     "shell.execute_reply": "2021-04-01T04:58:23.430502Z"
    },
    "papermill": {
     "duration": 0.021051,
     "end_time": "2021-04-01T04:58:23.430665",
     "exception": false,
     "start_time": "2021-04-01T04:58:23.409614",
     "status": "completed"
    },
    "tags": []
   },
   "outputs": [
    {
     "data": {
      "application/javascript": [
       "parent.postMessage({\"jupyterEvent\": \"custom.exercise_interaction\", \"data\": {\"outcomeType\": 1, \"valueTowardsCompletion\": 0.25, \"interactionType\": 1, \"questionType\": 1, \"questionId\": \"3_CountMissingPrices\", \"learnToolsVersion\": \"0.3.4\", \"failureMessage\": \"\", \"exceptionClass\": \"\", \"trace\": \"\"}}, \"*\")"
      ],
      "text/plain": [
       "<IPython.core.display.Javascript object>"
      ]
     },
     "metadata": {},
     "output_type": "display_data"
    },
    {
     "data": {
      "text/markdown": [
       "<span style=\"color:#33cc33\">Correct</span>"
      ],
      "text/plain": [
       "Correct"
      ]
     },
     "metadata": {},
     "output_type": "display_data"
    }
   ],
   "source": [
    "n_missing_prices = reviews.price.isnull().sum()\n",
    "\n",
    "# Check your answer\n",
    "q3.check()"
   ]
  },
  {
   "cell_type": "code",
   "execution_count": 7,
   "id": "disabled-lease",
   "metadata": {
    "execution": {
     "iopub.execute_input": "2021-04-01T04:58:23.457561Z",
     "iopub.status.busy": "2021-04-01T04:58:23.456654Z",
     "iopub.status.idle": "2021-04-01T04:58:23.463445Z",
     "shell.execute_reply": "2021-04-01T04:58:23.463924Z"
    },
    "papermill": {
     "duration": 0.021759,
     "end_time": "2021-04-01T04:58:23.464098",
     "exception": false,
     "start_time": "2021-04-01T04:58:23.442339",
     "status": "completed"
    },
    "tags": []
   },
   "outputs": [
    {
     "data": {
      "application/javascript": [
       "parent.postMessage({\"jupyterEvent\": \"custom.exercise_interaction\", \"data\": {\"interactionType\": 3, \"questionType\": 1, \"questionId\": \"3_CountMissingPrices\", \"learnToolsVersion\": \"0.3.4\", \"valueTowardsCompletion\": 0.0, \"failureMessage\": \"\", \"exceptionClass\": \"\", \"trace\": \"\", \"outcomeType\": 4}}, \"*\")"
      ],
      "text/plain": [
       "<IPython.core.display.Javascript object>"
      ]
     },
     "metadata": {},
     "output_type": "display_data"
    },
    {
     "data": {
      "text/markdown": [
       "<span style=\"color:#33cc99\">Solution:</span> \n",
       "```python\n",
       "missing_price_reviews = reviews[reviews.price.isnull()]\n",
       "n_missing_prices = len(missing_price_reviews)\n",
       "# Cute alternative solution: if we sum a boolean series, True is treated as 1 and False as 0\n",
       "n_missing_prices = reviews.price.isnull().sum()\n",
       "# or equivalently:\n",
       "n_missing_prices = pd.isnull(reviews.price).sum()\n",
       "\n",
       "```"
      ],
      "text/plain": [
       "Solution: \n",
       "```python\n",
       "missing_price_reviews = reviews[reviews.price.isnull()]\n",
       "n_missing_prices = len(missing_price_reviews)\n",
       "# Cute alternative solution: if we sum a boolean series, True is treated as 1 and False as 0\n",
       "n_missing_prices = reviews.price.isnull().sum()\n",
       "# or equivalently:\n",
       "n_missing_prices = pd.isnull(reviews.price).sum()\n",
       "\n",
       "```"
      ]
     },
     "metadata": {},
     "output_type": "display_data"
    }
   ],
   "source": [
    "#q3.hint()\n",
    "q3.solution()"
   ]
  },
  {
   "cell_type": "markdown",
   "id": "previous-variance",
   "metadata": {
    "papermill": {
     "duration": 0.012132,
     "end_time": "2021-04-01T04:58:23.488562",
     "exception": false,
     "start_time": "2021-04-01T04:58:23.476430",
     "status": "completed"
    },
    "tags": []
   },
   "source": [
    "## 4.\n",
    "What are the most common wine-producing regions? Create a Series counting the number of times each value occurs in the `region_1` field. This field is often missing data, so replace missing values with `Unknown`. Sort in descending order.  Your output should look something like this:\n",
    "\n",
    "```\n",
    "Unknown                    21247\n",
    "Napa Valley                 4480\n",
    "                           ...  \n",
    "Bardolino Superiore            1\n",
    "Primitivo del Tarantino        1\n",
    "Name: region_1, Length: 1230, dtype: int64\n",
    "```"
   ]
  },
  {
   "cell_type": "code",
   "execution_count": 8,
   "id": "thick-access",
   "metadata": {
    "execution": {
     "iopub.execute_input": "2021-04-01T04:58:23.517058Z",
     "iopub.status.busy": "2021-04-01T04:58:23.516172Z",
     "iopub.status.idle": "2021-04-01T04:58:23.568947Z",
     "shell.execute_reply": "2021-04-01T04:58:23.569675Z"
    },
    "papermill": {
     "duration": 0.0689,
     "end_time": "2021-04-01T04:58:23.570007",
     "exception": false,
     "start_time": "2021-04-01T04:58:23.501107",
     "status": "completed"
    },
    "tags": []
   },
   "outputs": [
    {
     "name": "stdout",
     "output_type": "stream",
     "text": [
      "Unknown                                   21247\n",
      "Napa Valley                                4480\n",
      "Columbia Valley (WA)                       4124\n",
      "Russian River Valley                       3091\n",
      "California                                 2629\n",
      "                                          ...  \n",
      "Vin Santo di Carmignano                       1\n",
      "Sonoma-Mendocino                              1\n",
      "Est! Est!! Est!!! di Montefiascone            1\n",
      "Monterey-San Luis Obispo-Santa Barbara        1\n",
      "Goulburn Valley                               1\n",
      "Name: region_1, Length: 1230, dtype: int64\n"
     ]
    },
    {
     "data": {
      "application/javascript": [
       "parent.postMessage({\"jupyterEvent\": \"custom.exercise_interaction\", \"data\": {\"outcomeType\": 1, \"valueTowardsCompletion\": 0.25, \"interactionType\": 1, \"questionType\": 2, \"questionId\": \"4_ReviewsPerRegion\", \"learnToolsVersion\": \"0.3.4\", \"failureMessage\": \"\", \"exceptionClass\": \"\", \"trace\": \"\"}}, \"*\")"
      ],
      "text/plain": [
       "<IPython.core.display.Javascript object>"
      ]
     },
     "metadata": {},
     "output_type": "display_data"
    },
    {
     "data": {
      "text/markdown": [
       "<span style=\"color:#33cc33\">Correct</span>"
      ],
      "text/plain": [
       "Correct"
      ]
     },
     "metadata": {},
     "output_type": "display_data"
    }
   ],
   "source": [
    "\n",
    "reviews_per_region = reviews.region_1.fillna(\"Unknown\").value_counts().sort_values(ascending = False)\n",
    "\n",
    "print(reviews_per_region)\n",
    "# Check your answer\n",
    "q4.check()"
   ]
  },
  {
   "cell_type": "code",
   "execution_count": 9,
   "id": "widespread-alcohol",
   "metadata": {
    "execution": {
     "iopub.execute_input": "2021-04-01T04:58:23.604558Z",
     "iopub.status.busy": "2021-04-01T04:58:23.603586Z",
     "iopub.status.idle": "2021-04-01T04:58:23.610180Z",
     "shell.execute_reply": "2021-04-01T04:58:23.609685Z"
    },
    "papermill": {
     "duration": 0.025182,
     "end_time": "2021-04-01T04:58:23.610338",
     "exception": false,
     "start_time": "2021-04-01T04:58:23.585156",
     "status": "completed"
    },
    "tags": []
   },
   "outputs": [
    {
     "data": {
      "application/javascript": [
       "parent.postMessage({\"jupyterEvent\": \"custom.exercise_interaction\", \"data\": {\"interactionType\": 3, \"questionType\": 2, \"questionId\": \"4_ReviewsPerRegion\", \"learnToolsVersion\": \"0.3.4\", \"valueTowardsCompletion\": 0.0, \"failureMessage\": \"\", \"exceptionClass\": \"\", \"trace\": \"\", \"outcomeType\": 4}}, \"*\")"
      ],
      "text/plain": [
       "<IPython.core.display.Javascript object>"
      ]
     },
     "metadata": {},
     "output_type": "display_data"
    },
    {
     "data": {
      "text/markdown": [
       "<span style=\"color:#33cc99\">Solution:</span> \n",
       "```python\n",
       "reviews_per_region = reviews.region_1.fillna('Unknown').value_counts().sort_values(ascending=False)\n",
       "```"
      ],
      "text/plain": [
       "Solution: \n",
       "```python\n",
       "reviews_per_region = reviews.region_1.fillna('Unknown').value_counts().sort_values(ascending=False)\n",
       "```"
      ]
     },
     "metadata": {},
     "output_type": "display_data"
    }
   ],
   "source": [
    "#q4.hint()\n",
    "q4.solution()"
   ]
  },
  {
   "cell_type": "markdown",
   "id": "dense-lighter",
   "metadata": {
    "papermill": {
     "duration": 0.014816,
     "end_time": "2021-04-01T04:58:23.640554",
     "exception": false,
     "start_time": "2021-04-01T04:58:23.625738",
     "status": "completed"
    },
    "tags": []
   },
   "source": [
    "# Keep going\n",
    "\n",
    "Move on to **[renaming and combining](https://www.kaggle.com/residentmario/renaming-and-combining)**."
   ]
  },
  {
   "cell_type": "markdown",
   "id": "productive-sculpture",
   "metadata": {
    "papermill": {
     "duration": 0.015588,
     "end_time": "2021-04-01T04:58:23.671342",
     "exception": false,
     "start_time": "2021-04-01T04:58:23.655754",
     "status": "completed"
    },
    "tags": []
   },
   "source": [
    "---\n",
    "\n",
    "\n",
    "\n",
    "\n",
    "*Have questions or comments? Visit the [Learn Discussion forum](https://www.kaggle.com/learn-forum/161299) to chat with other Learners.*"
   ]
  }
 ],
 "metadata": {
  "kernelspec": {
   "display_name": "Python 3",
   "language": "python",
   "name": "python3"
  },
  "language_info": {
   "codemirror_mode": {
    "name": "ipython",
    "version": 3
   },
   "file_extension": ".py",
   "mimetype": "text/x-python",
   "name": "python",
   "nbconvert_exporter": "python",
   "pygments_lexer": "ipython3",
   "version": "3.7.9"
  },
  "papermill": {
   "default_parameters": {},
   "duration": 9.911368,
   "end_time": "2021-04-01T04:58:24.296063",
   "environment_variables": {},
   "exception": null,
   "input_path": "__notebook__.ipynb",
   "output_path": "__notebook__.ipynb",
   "parameters": {},
   "start_time": "2021-04-01T04:58:14.384695",
   "version": "2.3.2"
  }
 },
 "nbformat": 4,
 "nbformat_minor": 5
}
